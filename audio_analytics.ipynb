{
  "cells": [
    {
      "cell_type": "markdown",
      "metadata": {
        "id": "view-in-github",
        "colab_type": "text"
      },
      "source": [
        "<a href=\"https://colab.research.google.com/github/jairorodriguezarias/audio_analytics_lake/blob/main/audio_analytics.ipynb\" target=\"_parent\"><img src=\"https://colab.research.google.com/assets/colab-badge.svg\" alt=\"Open In Colab\"/></a>"
      ]
    },
    {
      "cell_type": "code",
      "source": [
        "# Enable APIs"
      ],
      "metadata": {
        "id": "3hTT8LoKiLGU"
      },
      "execution_count": 8,
      "outputs": []
    },
    {
      "cell_type": "code",
      "source": [
        "!gcloud config set project genai-387907"
      ],
      "metadata": {
        "colab": {
          "base_uri": "https://localhost:8080/"
        },
        "id": "uUs9sCSSico2",
        "outputId": "d7cdc059-35fc-4c3a-98ff-6325b64530d2"
      },
      "execution_count": 24,
      "outputs": [
        {
          "output_type": "stream",
          "name": "stdout",
          "text": [
            "Updated property [core/project].\n"
          ]
        }
      ]
    },
    {
      "cell_type": "code",
      "source": [
        "# !gcloud auth login\n",
        "from google.colab import auth\n",
        "auth.authenticate_user()"
      ],
      "metadata": {
        "colab": {
          "base_uri": "https://localhost:8080/"
        },
        "id": "PEBUsY8HilWk",
        "outputId": "8cefa6dc-c054-4e96-e1f6-93563d12a5c1"
      },
      "execution_count": 25,
      "outputs": [
        {
          "output_type": "stream",
          "name": "stdout",
          "text": [
            "Go to the following link in your browser:\n",
            "\n",
            "    https://accounts.google.com/o/oauth2/auth?response_type=code&client_id=32555940559.apps.googleusercontent.com&redirect_uri=https%3A%2F%2Fsdk.cloud.google.com%2Fauthcode.html&scope=openid+https%3A%2F%2Fwww.googleapis.com%2Fauth%2Fuserinfo.email+https%3A%2F%2Fwww.googleapis.com%2Fauth%2Fcloud-platform+https%3A%2F%2Fwww.googleapis.com%2Fauth%2Fappengine.admin+https%3A%2F%2Fwww.googleapis.com%2Fauth%2Fsqlservice.login+https%3A%2F%2Fwww.googleapis.com%2Fauth%2Fcompute+https%3A%2F%2Fwww.googleapis.com%2Fauth%2Faccounts.reauth&state=xzW3uoHLVFjGQPQmJ7LZ3rfZtGJImh&prompt=consent&access_type=offline&code_challenge=gssz1dTglSWNu-JrnSgCiVgKJmGIQ6ZTJ4Lyilj_M_w&code_challenge_method=S256\n",
            "\n",
            "Enter authorization code: 4/0AfJohXmJCJP1NWJmZ8Oyj3KtrRogr_E4Ua8ZxzImmnR2IUPB6im0YU9JRG4WH4xhFKmEkQ\n",
            "\n",
            "You are now logged in as [admin@jairorodriguez.altostrat.com].\n",
            "Your current project is [genai-387907].  You can change this setting by running:\n",
            "  $ gcloud config set project PROJECT_ID\n"
          ]
        }
      ]
    },
    {
      "cell_type": "code",
      "source": [
        "!gcloud services enable cloudfunctions.googleapis.com --async\n",
        "!gcloud services enable cloudbuild.googleapis.com --async\n",
        "!gcloud services enable bigqueryconnection.googleapis.com --async\n",
        "!gcloud services enable vision.googleapis.com --async"
      ],
      "metadata": {
        "id": "tg58786oiTjH"
      },
      "execution_count": 26,
      "outputs": []
    },
    {
      "cell_type": "markdown",
      "source": [
        "# Create BigLake connection"
      ],
      "metadata": {
        "id": "pnGnrXpNiuwA"
      }
    },
    {
      "cell_type": "code",
      "source": [
        "!bq mk --connection --location=us-east1 --project_id=genai-387907 --connection_type=CLOUD_RESOURCE biglake-connection"
      ],
      "metadata": {
        "colab": {
          "base_uri": "https://localhost:8080/"
        },
        "id": "0jmFnE9jiygA",
        "outputId": "bad93d11-fe44-423c-c62e-f7bb16f931fa"
      },
      "execution_count": 27,
      "outputs": [
        {
          "output_type": "stream",
          "name": "stdout",
          "text": [
            "Bigquery service returned an invalid reply in mk operation: Error reported by server with missing\n",
            "error fields. Server returned: {'error': {'code': 409, 'message': 'Already Exists: Connection\n",
            "projects/899604603048/locations/us-east1/connections/biglake-connection', 'status':\n",
            "'ALREADY_EXISTS'}}.\n",
            "\n",
            "Please make sure you are using the latest version of the bq tool and try again. If this problem\n",
            "persists, you may have encountered a bug in the bigquery client. Please file a bug report in our\n",
            "public issue tracker:\n",
            "https://issuetracker.google.com/issues/new?component=187149&template=0\n",
            "Please include a brief description of the steps that led to this issue, as well as any rows that can\n",
            "be made public from the following information:\n",
            "\n",
            "========================================\n",
            "== Platform ==\n",
            "  CPython:3.10.12:Linux-5.15.120+-x86_64-with-glibc2.35\n",
            "== bq version ==\n",
            "  2.0.98\n",
            "== Command line ==\n",
            "  ['/tools/google-cloud-sdk/platform/bq/bq.py', '--application_default_credential_file', '/content/.config/legacy_credentials/admin@jairorodriguez.altostrat.com/adc.json', '--credential_file', '/content/.config/legacy_credentials/admin@jairorodriguez.altostrat.com/singlestore_bq.json', '--project_id=genai-387907', 'mk', '--connection', '--location=us-east1', '--project_id=genai-387907', '--connection_type=CLOUD_RESOURCE', 'biglake-connection']\n",
            "== UTC timestamp ==\n",
            "  2023-10-23 18:57:12\n",
            "== Error trace ==\n",
            "Traceback (most recent call last):\n",
            "  File \"/tools/google-cloud-sdk/platform/bq/bigquery_client.py\", line 1100, in execute\n",
            "    return super().execute(**kwds)\n",
            "  File \"/tools/google-cloud-sdk/platform/bq/third_party/googleapiclient/_helpers.py\", line 135, in positional_wrapper\n",
            "    return wrapped(*args, **kwargs)\n",
            "  File \"/tools/google-cloud-sdk/platform/bq/third_party/googleapiclient/http.py\", line 936, in execute\n",
            "    raise HttpError(resp, content, uri=self.uri)\n",
            "googleapiclient.errors.HttpError: <HttpError 409 when requesting https://bigqueryconnection.googleapis.com/v1/projects/genai-387907/locations/us-east1/connections?connectionId=biglake-connection&alt=json returned \"Already Exists: Connection projects/899604603048/locations/us-east1/connections/biglake-connection\". Details: \"Already Exists: Connection projects/899604603048/locations/us-east1/connections/biglake-connection\">\n",
            "\n",
            "During handling of the above exception, another exception occurred:\n",
            "\n",
            "Traceback (most recent call last):\n",
            "  File \"/tools/google-cloud-sdk/platform/bq/bq.py\", line 891, in RunSafely\n",
            "    return_value = self.RunWithArgs(*args, **kwds)\n",
            "  File \"/tools/google-cloud-sdk/platform/bq/bq.py\", line 4574, in RunWithArgs\n",
            "    created_connection = client.CreateConnection(\n",
            "  File \"/tools/google-cloud-sdk/platform/bq/bigquery_client.py\", line 2897, in CreateConnection\n",
            "    parent=parent, connectionId=connection_id, body=connection).execute()\n",
            "  File \"/tools/google-cloud-sdk/platform/bq/bigquery_client.py\", line 1105, in execute\n",
            "    BigqueryHttp.RaiseErrorFromHttpError(e)\n",
            "  File \"/tools/google-cloud-sdk/platform/bq/bigquery_client.py\", line 1078, in RaiseErrorFromHttpError\n",
            "    BigqueryClient.RaiseError(content)\n",
            "  File \"/tools/google-cloud-sdk/platform/bq/bigquery_client.py\", line 3402, in RaiseError\n",
            "    raise BigqueryError.Create(error, result, [])\n",
            "bigquery_client.BigqueryInterfaceError: Error reported by server with missing error fields. Server returned: {'error': {'code': 409, 'message': 'Already Exists: Connection projects/899604603048/locations/us-east1/connections/biglake-connection', 'status': 'ALREADY_EXISTS'}}\n",
            "\n",
            "========================================\n",
            "\n",
            "Unexpected exception in mk operation: Bigquery service returned an invalid reply in mk operation:\n",
            "Error reported by server with missing\n",
            "error fields. Server returned: {'error': {'code': 409, 'message': 'Already Exists: Connection\n",
            "projects/899604603048/locations/us-east1/connections/biglake-connection', 'status':\n",
            "'ALREADY_EXISTS'}}.\n",
            "\n",
            "Please make sure you are using the latest version of the bq tool and try again. If this problem\n",
            "persists, you may have encountered a bug in the bigquery client. Please file a bug report in our\n",
            "public issue tracker:\n",
            "https://issuetracker.google.com/issues/new?component=187149&template=0\n",
            "Please include a brief description of the steps that led to this issue, as well as any rows that can\n",
            "be made public from the following information:\n"
          ]
        }
      ]
    },
    {
      "cell_type": "markdown",
      "source": [
        "**Show detail connection**\n"
      ],
      "metadata": {
        "id": "Md9d6tV-i-lv"
      }
    },
    {
      "cell_type": "code",
      "source": [
        "!bq show --connection 899604603048.us-east1.biglake-connection"
      ],
      "metadata": {
        "colab": {
          "base_uri": "https://localhost:8080/"
        },
        "id": "WZb5e8dsjHJd",
        "outputId": "18407fed-ea4c-4760-a922-8ae852a40144"
      },
      "execution_count": 28,
      "outputs": [
        {
          "output_type": "stream",
          "name": "stdout",
          "text": [
            "Connection 899604603048.us-east1.biglake-connection\n",
            "\n",
            "                    name                     friendlyName   description    Last modified         type        hasCredential                                            properties                                            \n",
            " ------------------------------------------ -------------- ------------- ----------------- ---------------- --------------- ----------------------------------------------------------------------------------------------- \n",
            "  899604603048.us-east1.biglake-connection                                23 Oct 17:18:38   CLOUD_RESOURCE   False           {\"serviceAccountId\": \"bqcx-899604603048-dw2f@gcp-sa-bigquery-condel.iam.gserviceaccount.com\"}  \n",
            "\n"
          ]
        }
      ]
    },
    {
      "cell_type": "markdown",
      "source": [
        "**Grant access to SQ**"
      ],
      "metadata": {
        "id": "iDtQGm4UjREb"
      }
    },
    {
      "cell_type": "code",
      "source": [
        "!gsutil iam ch serviceAccount:bqcx-899604603048-dw2f@gcp-sa-bigquery-condel.iam.gserviceaccount.com:objectViewer gs://vector_store-genai-387907-images"
      ],
      "metadata": {
        "colab": {
          "base_uri": "https://localhost:8080/"
        },
        "id": "cQxbW88KjUT7",
        "outputId": "242dba58-f25f-4a59-91f6-09f994eeafec"
      },
      "execution_count": 29,
      "outputs": [
        {
          "output_type": "stream",
          "name": "stdout",
          "text": [
            "No changes made to gs://vector_store-genai-387907-images/\n"
          ]
        }
      ]
    },
    {
      "cell_type": "markdown",
      "source": [
        "# Create table"
      ],
      "metadata": {
        "id": "POES_Sn6jhjM"
      }
    },
    {
      "cell_type": "code",
      "source": [
        "!bq mk -d --data_location=us-east1 bq_images_pre"
      ],
      "metadata": {
        "colab": {
          "base_uri": "https://localhost:8080/"
        },
        "id": "pwWgnNUBjj1t",
        "outputId": "dedf942c-ec23-4ab5-92b3-fa10067c2d15"
      },
      "execution_count": 16,
      "outputs": [
        {
          "output_type": "stream",
          "name": "stdout",
          "text": [
            "Dataset 'genai-387907:bq_images_pre' successfully created.\n"
          ]
        }
      ]
    },
    {
      "cell_type": "code",
      "source": [
        "%%bigquery results --project genai-387907\n",
        "SELECT * FROM `genai-387907.bq_images_pre.images`"
      ],
      "metadata": {
        "colab": {
          "base_uri": "https://localhost:8080/"
        },
        "id": "kmM011Nf6b3q",
        "outputId": "4ee76d4c-9dbf-42de-8708-bc7c13e271b9"
      },
      "execution_count": 32,
      "outputs": [
        {
          "output_type": "stream",
          "name": "stderr",
          "text": [
            "Could not save output to variable 'results'.\n",
            "\n",
            "ERROR:\n",
            " (\"Failed to retrieve http://metadata.google.internal/computeMetadata/v1/instance/service-accounts/default/?recursive=true from the Google Compute Engine metadata service. Status: 404 Response:\\nb''\", <google.auth.transport.requests._Response object at 0x7a034b181750>)\n"
          ]
        }
      ]
    },
    {
      "cell_type": "code",
      "source": [
        "#Replace 'project_id' with your BigQuery project ID\n",
        "\n",
        "from google.cloud import bigquery\n",
        "client = bigquery.Client(project='genai-387907')\n"
      ],
      "metadata": {
        "id": "ClD35YoV7PTn"
      },
      "execution_count": 38,
      "outputs": []
    },
    {
      "cell_type": "code",
      "source": [
        "#Create external table\n",
        "\n",
        "sql_query = ('''CREATE OR REPLACE EXTERNAL TABLE\n",
        "              `genai-387907.bq_images_pre.images`\n",
        "            WITH CONNECTION `us-east1.biglake-connection` OPTIONS (\n",
        "                object_metadata=\"DIRECTORY\",\n",
        "                uris = ['gs://vector_store-genai-387907-images/*' ],\n",
        "                max_staleness=INTERVAL 30 MINUTE,\n",
        "                metadata_cache_mode=\"AUTOMATIC\");''')\n",
        "\n",
        "df = client.query(sql_query)"
      ],
      "metadata": {
        "id": "vnaxxaNK7mhj"
      },
      "execution_count": 44,
      "outputs": []
    },
    {
      "cell_type": "code",
      "source": [
        "# Read table\n",
        "sql_query = ('''select * from\n",
        "              `bq_images_pre.images`;''')\n",
        "\n",
        "df = client.query(sql_query).to_dataframe()\n",
        "df"
      ],
      "metadata": {
        "colab": {
          "base_uri": "https://localhost:8080/",
          "height": 670
        },
        "id": "UzDYXHd173UT",
        "outputId": "684a536c-700c-4e11-cc35-2496e0e7426d"
      },
      "execution_count": 52,
      "outputs": [
        {
          "output_type": "execute_result",
          "data": {
            "text/plain": [
              "                                                   uri        generation  \\\n",
              "0    gs://vector_store-genai-387907-images/00000001...  1697613110853651   \n",
              "1    gs://vector_store-genai-387907-images/00773070...  1697613110755187   \n",
              "2    gs://vector_store-genai-387907-images/00854548...  1697613111155008   \n",
              "3    gs://vector_store-genai-387907-images/02644743...  1697613112459384   \n",
              "4    gs://vector_store-genai-387907-images/03100099...  1697613111952518   \n",
              "..                                                 ...               ...   \n",
              "104  gs://vector_store-genai-387907-images/90000001...  1697613152659850   \n",
              "105  gs://vector_store-genai-387907-images/96216409...  1697613153239526   \n",
              "106  gs://vector_store-genai-387907-images/98781663...  1697613153568094   \n",
              "107  gs://vector_store-genai-387907-images/98781778...  1697613153756363   \n",
              "108  gs://vector_store-genai-387907-images/99292227...  1697613154179276   \n",
              "\n",
              "    content_type     size                          md5_hash  \\\n",
              "0     image/jpeg   248239  1bc0990f4f1e1242585f5f0484c7bad7   \n",
              "1     image/jpeg   481144  32255f60bc5217143de55f1cd87c131d   \n",
              "2     image/jpeg   352723  8c73835ce0189b514b1aa3fe4796d620   \n",
              "3     image/jpeg   886010  dca8043421773cd545a76b346306b7b4   \n",
              "4     image/jpeg    81761  23518325ad651adb1bd086acddf92d98   \n",
              "..           ...      ...                               ...   \n",
              "104   image/jpeg  1001427  a5e3e5aac385b9e38ddb76fec219fe27   \n",
              "105   image/jpeg   318260  416159ca1cd5c46c5aa89cfc0541f645   \n",
              "106   image/jpeg   623341  cc6353ee21d43fbf65ab01206d4e311f   \n",
              "107   image/jpeg   230187  26c86e620bb1f85103952ebe8c012af6   \n",
              "108   image/jpeg   109802  3fb6bf235d621ce9321f7659d64c40d4   \n",
              "\n",
              "                             updated metadata  \n",
              "0   2023-10-18 07:11:50.892000+00:00       []  \n",
              "1   2023-10-18 07:11:50.796000+00:00       []  \n",
              "2   2023-10-18 07:11:51.193000+00:00       []  \n",
              "3   2023-10-18 07:11:52.499000+00:00       []  \n",
              "4   2023-10-18 07:11:51.992000+00:00       []  \n",
              "..                               ...      ...  \n",
              "104 2023-10-18 07:12:32.699000+00:00       []  \n",
              "105 2023-10-18 07:12:33.280000+00:00       []  \n",
              "106 2023-10-18 07:12:33.606000+00:00       []  \n",
              "107 2023-10-18 07:12:33.794000+00:00       []  \n",
              "108 2023-10-18 07:12:34.216000+00:00       []  \n",
              "\n",
              "[109 rows x 7 columns]"
            ],
            "text/html": [
              "\n",
              "  <div id=\"df-6fb946ed-eb5a-487a-a08f-82faec991a50\" class=\"colab-df-container\">\n",
              "    <div>\n",
              "<style scoped>\n",
              "    .dataframe tbody tr th:only-of-type {\n",
              "        vertical-align: middle;\n",
              "    }\n",
              "\n",
              "    .dataframe tbody tr th {\n",
              "        vertical-align: top;\n",
              "    }\n",
              "\n",
              "    .dataframe thead th {\n",
              "        text-align: right;\n",
              "    }\n",
              "</style>\n",
              "<table border=\"1\" class=\"dataframe\">\n",
              "  <thead>\n",
              "    <tr style=\"text-align: right;\">\n",
              "      <th></th>\n",
              "      <th>uri</th>\n",
              "      <th>generation</th>\n",
              "      <th>content_type</th>\n",
              "      <th>size</th>\n",
              "      <th>md5_hash</th>\n",
              "      <th>updated</th>\n",
              "      <th>metadata</th>\n",
              "    </tr>\n",
              "  </thead>\n",
              "  <tbody>\n",
              "    <tr>\n",
              "      <th>0</th>\n",
              "      <td>gs://vector_store-genai-387907-images/00000001...</td>\n",
              "      <td>1697613110853651</td>\n",
              "      <td>image/jpeg</td>\n",
              "      <td>248239</td>\n",
              "      <td>1bc0990f4f1e1242585f5f0484c7bad7</td>\n",
              "      <td>2023-10-18 07:11:50.892000+00:00</td>\n",
              "      <td>[]</td>\n",
              "    </tr>\n",
              "    <tr>\n",
              "      <th>1</th>\n",
              "      <td>gs://vector_store-genai-387907-images/00773070...</td>\n",
              "      <td>1697613110755187</td>\n",
              "      <td>image/jpeg</td>\n",
              "      <td>481144</td>\n",
              "      <td>32255f60bc5217143de55f1cd87c131d</td>\n",
              "      <td>2023-10-18 07:11:50.796000+00:00</td>\n",
              "      <td>[]</td>\n",
              "    </tr>\n",
              "    <tr>\n",
              "      <th>2</th>\n",
              "      <td>gs://vector_store-genai-387907-images/00854548...</td>\n",
              "      <td>1697613111155008</td>\n",
              "      <td>image/jpeg</td>\n",
              "      <td>352723</td>\n",
              "      <td>8c73835ce0189b514b1aa3fe4796d620</td>\n",
              "      <td>2023-10-18 07:11:51.193000+00:00</td>\n",
              "      <td>[]</td>\n",
              "    </tr>\n",
              "    <tr>\n",
              "      <th>3</th>\n",
              "      <td>gs://vector_store-genai-387907-images/02644743...</td>\n",
              "      <td>1697613112459384</td>\n",
              "      <td>image/jpeg</td>\n",
              "      <td>886010</td>\n",
              "      <td>dca8043421773cd545a76b346306b7b4</td>\n",
              "      <td>2023-10-18 07:11:52.499000+00:00</td>\n",
              "      <td>[]</td>\n",
              "    </tr>\n",
              "    <tr>\n",
              "      <th>4</th>\n",
              "      <td>gs://vector_store-genai-387907-images/03100099...</td>\n",
              "      <td>1697613111952518</td>\n",
              "      <td>image/jpeg</td>\n",
              "      <td>81761</td>\n",
              "      <td>23518325ad651adb1bd086acddf92d98</td>\n",
              "      <td>2023-10-18 07:11:51.992000+00:00</td>\n",
              "      <td>[]</td>\n",
              "    </tr>\n",
              "    <tr>\n",
              "      <th>...</th>\n",
              "      <td>...</td>\n",
              "      <td>...</td>\n",
              "      <td>...</td>\n",
              "      <td>...</td>\n",
              "      <td>...</td>\n",
              "      <td>...</td>\n",
              "      <td>...</td>\n",
              "    </tr>\n",
              "    <tr>\n",
              "      <th>104</th>\n",
              "      <td>gs://vector_store-genai-387907-images/90000001...</td>\n",
              "      <td>1697613152659850</td>\n",
              "      <td>image/jpeg</td>\n",
              "      <td>1001427</td>\n",
              "      <td>a5e3e5aac385b9e38ddb76fec219fe27</td>\n",
              "      <td>2023-10-18 07:12:32.699000+00:00</td>\n",
              "      <td>[]</td>\n",
              "    </tr>\n",
              "    <tr>\n",
              "      <th>105</th>\n",
              "      <td>gs://vector_store-genai-387907-images/96216409...</td>\n",
              "      <td>1697613153239526</td>\n",
              "      <td>image/jpeg</td>\n",
              "      <td>318260</td>\n",
              "      <td>416159ca1cd5c46c5aa89cfc0541f645</td>\n",
              "      <td>2023-10-18 07:12:33.280000+00:00</td>\n",
              "      <td>[]</td>\n",
              "    </tr>\n",
              "    <tr>\n",
              "      <th>106</th>\n",
              "      <td>gs://vector_store-genai-387907-images/98781663...</td>\n",
              "      <td>1697613153568094</td>\n",
              "      <td>image/jpeg</td>\n",
              "      <td>623341</td>\n",
              "      <td>cc6353ee21d43fbf65ab01206d4e311f</td>\n",
              "      <td>2023-10-18 07:12:33.606000+00:00</td>\n",
              "      <td>[]</td>\n",
              "    </tr>\n",
              "    <tr>\n",
              "      <th>107</th>\n",
              "      <td>gs://vector_store-genai-387907-images/98781778...</td>\n",
              "      <td>1697613153756363</td>\n",
              "      <td>image/jpeg</td>\n",
              "      <td>230187</td>\n",
              "      <td>26c86e620bb1f85103952ebe8c012af6</td>\n",
              "      <td>2023-10-18 07:12:33.794000+00:00</td>\n",
              "      <td>[]</td>\n",
              "    </tr>\n",
              "    <tr>\n",
              "      <th>108</th>\n",
              "      <td>gs://vector_store-genai-387907-images/99292227...</td>\n",
              "      <td>1697613154179276</td>\n",
              "      <td>image/jpeg</td>\n",
              "      <td>109802</td>\n",
              "      <td>3fb6bf235d621ce9321f7659d64c40d4</td>\n",
              "      <td>2023-10-18 07:12:34.216000+00:00</td>\n",
              "      <td>[]</td>\n",
              "    </tr>\n",
              "  </tbody>\n",
              "</table>\n",
              "<p>109 rows × 7 columns</p>\n",
              "</div>\n",
              "    <div class=\"colab-df-buttons\">\n",
              "\n",
              "  <div class=\"colab-df-container\">\n",
              "    <button class=\"colab-df-convert\" onclick=\"convertToInteractive('df-6fb946ed-eb5a-487a-a08f-82faec991a50')\"\n",
              "            title=\"Convert this dataframe to an interactive table.\"\n",
              "            style=\"display:none;\">\n",
              "\n",
              "  <svg xmlns=\"http://www.w3.org/2000/svg\" height=\"24px\" viewBox=\"0 -960 960 960\">\n",
              "    <path d=\"M120-120v-720h720v720H120Zm60-500h600v-160H180v160Zm220 220h160v-160H400v160Zm0 220h160v-160H400v160ZM180-400h160v-160H180v160Zm440 0h160v-160H620v160ZM180-180h160v-160H180v160Zm440 0h160v-160H620v160Z\"/>\n",
              "  </svg>\n",
              "    </button>\n",
              "\n",
              "  <style>\n",
              "    .colab-df-container {\n",
              "      display:flex;\n",
              "      gap: 12px;\n",
              "    }\n",
              "\n",
              "    .colab-df-convert {\n",
              "      background-color: #E8F0FE;\n",
              "      border: none;\n",
              "      border-radius: 50%;\n",
              "      cursor: pointer;\n",
              "      display: none;\n",
              "      fill: #1967D2;\n",
              "      height: 32px;\n",
              "      padding: 0 0 0 0;\n",
              "      width: 32px;\n",
              "    }\n",
              "\n",
              "    .colab-df-convert:hover {\n",
              "      background-color: #E2EBFA;\n",
              "      box-shadow: 0px 1px 2px rgba(60, 64, 67, 0.3), 0px 1px 3px 1px rgba(60, 64, 67, 0.15);\n",
              "      fill: #174EA6;\n",
              "    }\n",
              "\n",
              "    .colab-df-buttons div {\n",
              "      margin-bottom: 4px;\n",
              "    }\n",
              "\n",
              "    [theme=dark] .colab-df-convert {\n",
              "      background-color: #3B4455;\n",
              "      fill: #D2E3FC;\n",
              "    }\n",
              "\n",
              "    [theme=dark] .colab-df-convert:hover {\n",
              "      background-color: #434B5C;\n",
              "      box-shadow: 0px 1px 3px 1px rgba(0, 0, 0, 0.15);\n",
              "      filter: drop-shadow(0px 1px 2px rgba(0, 0, 0, 0.3));\n",
              "      fill: #FFFFFF;\n",
              "    }\n",
              "  </style>\n",
              "\n",
              "    <script>\n",
              "      const buttonEl =\n",
              "        document.querySelector('#df-6fb946ed-eb5a-487a-a08f-82faec991a50 button.colab-df-convert');\n",
              "      buttonEl.style.display =\n",
              "        google.colab.kernel.accessAllowed ? 'block' : 'none';\n",
              "\n",
              "      async function convertToInteractive(key) {\n",
              "        const element = document.querySelector('#df-6fb946ed-eb5a-487a-a08f-82faec991a50');\n",
              "        const dataTable =\n",
              "          await google.colab.kernel.invokeFunction('convertToInteractive',\n",
              "                                                    [key], {});\n",
              "        if (!dataTable) return;\n",
              "\n",
              "        const docLinkHtml = 'Like what you see? Visit the ' +\n",
              "          '<a target=\"_blank\" href=https://colab.research.google.com/notebooks/data_table.ipynb>data table notebook</a>'\n",
              "          + ' to learn more about interactive tables.';\n",
              "        element.innerHTML = '';\n",
              "        dataTable['output_type'] = 'display_data';\n",
              "        await google.colab.output.renderOutput(dataTable, element);\n",
              "        const docLink = document.createElement('div');\n",
              "        docLink.innerHTML = docLinkHtml;\n",
              "        element.appendChild(docLink);\n",
              "      }\n",
              "    </script>\n",
              "  </div>\n",
              "\n",
              "\n",
              "<div id=\"df-82dc96be-a37b-47af-ba96-f40179299a5a\">\n",
              "  <button class=\"colab-df-quickchart\" onclick=\"quickchart('df-82dc96be-a37b-47af-ba96-f40179299a5a')\"\n",
              "            title=\"Suggest charts.\"\n",
              "            style=\"display:none;\">\n",
              "\n",
              "<svg xmlns=\"http://www.w3.org/2000/svg\" height=\"24px\"viewBox=\"0 0 24 24\"\n",
              "     width=\"24px\">\n",
              "    <g>\n",
              "        <path d=\"M19 3H5c-1.1 0-2 .9-2 2v14c0 1.1.9 2 2 2h14c1.1 0 2-.9 2-2V5c0-1.1-.9-2-2-2zM9 17H7v-7h2v7zm4 0h-2V7h2v10zm4 0h-2v-4h2v4z\"/>\n",
              "    </g>\n",
              "</svg>\n",
              "  </button>\n",
              "\n",
              "<style>\n",
              "  .colab-df-quickchart {\n",
              "      --bg-color: #E8F0FE;\n",
              "      --fill-color: #1967D2;\n",
              "      --hover-bg-color: #E2EBFA;\n",
              "      --hover-fill-color: #174EA6;\n",
              "      --disabled-fill-color: #AAA;\n",
              "      --disabled-bg-color: #DDD;\n",
              "  }\n",
              "\n",
              "  [theme=dark] .colab-df-quickchart {\n",
              "      --bg-color: #3B4455;\n",
              "      --fill-color: #D2E3FC;\n",
              "      --hover-bg-color: #434B5C;\n",
              "      --hover-fill-color: #FFFFFF;\n",
              "      --disabled-bg-color: #3B4455;\n",
              "      --disabled-fill-color: #666;\n",
              "  }\n",
              "\n",
              "  .colab-df-quickchart {\n",
              "    background-color: var(--bg-color);\n",
              "    border: none;\n",
              "    border-radius: 50%;\n",
              "    cursor: pointer;\n",
              "    display: none;\n",
              "    fill: var(--fill-color);\n",
              "    height: 32px;\n",
              "    padding: 0;\n",
              "    width: 32px;\n",
              "  }\n",
              "\n",
              "  .colab-df-quickchart:hover {\n",
              "    background-color: var(--hover-bg-color);\n",
              "    box-shadow: 0 1px 2px rgba(60, 64, 67, 0.3), 0 1px 3px 1px rgba(60, 64, 67, 0.15);\n",
              "    fill: var(--button-hover-fill-color);\n",
              "  }\n",
              "\n",
              "  .colab-df-quickchart-complete:disabled,\n",
              "  .colab-df-quickchart-complete:disabled:hover {\n",
              "    background-color: var(--disabled-bg-color);\n",
              "    fill: var(--disabled-fill-color);\n",
              "    box-shadow: none;\n",
              "  }\n",
              "\n",
              "  .colab-df-spinner {\n",
              "    border: 2px solid var(--fill-color);\n",
              "    border-color: transparent;\n",
              "    border-bottom-color: var(--fill-color);\n",
              "    animation:\n",
              "      spin 1s steps(1) infinite;\n",
              "  }\n",
              "\n",
              "  @keyframes spin {\n",
              "    0% {\n",
              "      border-color: transparent;\n",
              "      border-bottom-color: var(--fill-color);\n",
              "      border-left-color: var(--fill-color);\n",
              "    }\n",
              "    20% {\n",
              "      border-color: transparent;\n",
              "      border-left-color: var(--fill-color);\n",
              "      border-top-color: var(--fill-color);\n",
              "    }\n",
              "    30% {\n",
              "      border-color: transparent;\n",
              "      border-left-color: var(--fill-color);\n",
              "      border-top-color: var(--fill-color);\n",
              "      border-right-color: var(--fill-color);\n",
              "    }\n",
              "    40% {\n",
              "      border-color: transparent;\n",
              "      border-right-color: var(--fill-color);\n",
              "      border-top-color: var(--fill-color);\n",
              "    }\n",
              "    60% {\n",
              "      border-color: transparent;\n",
              "      border-right-color: var(--fill-color);\n",
              "    }\n",
              "    80% {\n",
              "      border-color: transparent;\n",
              "      border-right-color: var(--fill-color);\n",
              "      border-bottom-color: var(--fill-color);\n",
              "    }\n",
              "    90% {\n",
              "      border-color: transparent;\n",
              "      border-bottom-color: var(--fill-color);\n",
              "    }\n",
              "  }\n",
              "</style>\n",
              "\n",
              "  <script>\n",
              "    async function quickchart(key) {\n",
              "      const quickchartButtonEl =\n",
              "        document.querySelector('#' + key + ' button');\n",
              "      quickchartButtonEl.disabled = true;  // To prevent multiple clicks.\n",
              "      quickchartButtonEl.classList.add('colab-df-spinner');\n",
              "      try {\n",
              "        const charts = await google.colab.kernel.invokeFunction(\n",
              "            'suggestCharts', [key], {});\n",
              "      } catch (error) {\n",
              "        console.error('Error during call to suggestCharts:', error);\n",
              "      }\n",
              "      quickchartButtonEl.classList.remove('colab-df-spinner');\n",
              "      quickchartButtonEl.classList.add('colab-df-quickchart-complete');\n",
              "    }\n",
              "    (() => {\n",
              "      let quickchartButtonEl =\n",
              "        document.querySelector('#df-82dc96be-a37b-47af-ba96-f40179299a5a button');\n",
              "      quickchartButtonEl.style.display =\n",
              "        google.colab.kernel.accessAllowed ? 'block' : 'none';\n",
              "    })();\n",
              "  </script>\n",
              "</div>\n",
              "    </div>\n",
              "  </div>\n"
            ],
            "application/vnd.google.colaboratory.module+javascript": "\n      import \"https://ssl.gstatic.com/colaboratory/data_table/881c4a0d49046431/data_table.js\";\n\n      const table = window.createDataTable({\n        data: [[{\n            'v': 0,\n            'f': \"0\",\n        },\n\"gs://vector_store-genai-387907-images/0000000112_2_1_1.jpg\",\n{\n            'v': 1697613110853651,\n            'f': \"1697613110853651\",\n        },\n\"image/jpeg\",\n{\n            'v': 248239,\n            'f': \"248239\",\n        },\n\"1bc0990f4f1e1242585f5f0484c7bad7\",\n\"2023-10-18 07:11:50.892000+00:00\",\n\"[]\"],\n [{\n            'v': 1,\n            'f': \"1\",\n        },\n\"gs://vector_store-genai-387907-images/0077307081_6_1_1.jpg\",\n{\n            'v': 1697613110755187,\n            'f': \"1697613110755187\",\n        },\n\"image/jpeg\",\n{\n            'v': 481144,\n            'f': \"481144\",\n        },\n\"32255f60bc5217143de55f1cd87c131d\",\n\"2023-10-18 07:11:50.796000+00:00\",\n\"[]\"],\n [{\n            'v': 2,\n            'f': \"2\",\n        },\n\"gs://vector_store-genai-387907-images/0085454807_1_1_1.jpg\",\n{\n            'v': 1697613111155008,\n            'f': \"1697613111155008\",\n        },\n\"image/jpeg\",\n{\n            'v': 352723,\n            'f': \"352723\",\n        },\n\"8c73835ce0189b514b1aa3fe4796d620\",\n\"2023-10-18 07:11:51.193000+00:00\",\n\"[]\"],\n [{\n            'v': 3,\n            'f': \"3\",\n        },\n\"gs://vector_store-genai-387907-images/0264474302_1_1_1.jpg\",\n{\n            'v': 1697613112459384,\n            'f': \"1697613112459384\",\n        },\n\"image/jpeg\",\n{\n            'v': 886010,\n            'f': \"886010\",\n        },\n\"dca8043421773cd545a76b346306b7b4\",\n\"2023-10-18 07:11:52.499000+00:00\",\n\"[]\"],\n [{\n            'v': 4,\n            'f': \"4\",\n        },\n\"gs://vector_store-genai-387907-images/0310009999_1_1_1.jpg\",\n{\n            'v': 1697613111952518,\n            'f': \"1697613111952518\",\n        },\n\"image/jpeg\",\n{\n            'v': 81761,\n            'f': \"81761\",\n        },\n\"23518325ad651adb1bd086acddf92d98\",\n\"2023-10-18 07:11:51.992000+00:00\",\n\"[]\"],\n [{\n            'v': 5,\n            'f': \"5\",\n        },\n\"gs://vector_store-genai-387907-images/0310274999_6_1_1.jpg\",\n{\n            'v': 1697613112251833,\n            'f': \"1697613112251833\",\n        },\n\"image/jpeg\",\n{\n            'v': 108550,\n            'f': \"108550\",\n        },\n\"81ef8c74b42638656de8d3055942c816\",\n\"2023-10-18 07:11:52.289000+00:00\",\n\"[]\"],\n [{\n            'v': 6,\n            'f': \"6\",\n        },\n\"gs://vector_store-genai-387907-images/0387157052_1_1_1.jpg\",\n{\n            'v': 1697613113551703,\n            'f': \"1697613113551703\",\n        },\n\"image/jpeg\",\n{\n            'v': 445444,\n            'f': \"445444\",\n        },\n\"6c1e760fca55e0951369a53ceaedbdd9\",\n\"2023-10-18 07:11:53.590000+00:00\",\n\"[]\"],\n [{\n            'v': 7,\n            'f': \"7\",\n        },\n\"gs://vector_store-genai-387907-images/0475691990_6_1_1.jpg\",\n{\n            'v': 1697613113652038,\n            'f': \"1697613113652038\",\n        },\n\"image/jpeg\",\n{\n            'v': 83871,\n            'f': \"83871\",\n        },\n\"57add9125bbb7b3227e24cef24670bc8\",\n\"2023-10-18 07:11:53.690000+00:00\",\n\"[]\"],\n [{\n            'v': 8,\n            'f': \"8\",\n        },\n\"gs://vector_store-genai-387907-images/0485561712_6_1_1.jpg\",\n{\n            'v': 1697613089454867,\n            'f': \"1697613089454867\",\n        },\n\"image/jpeg\",\n{\n            'v': 113026,\n            'f': \"113026\",\n        },\n\"22ac0d429fdb3c5f4f66793018a9c1eb\",\n\"2023-10-18 07:11:29.493000+00:00\",\n\"[]\"],\n [{\n            'v': 9,\n            'f': \"9\",\n        },\n\"gs://vector_store-genai-387907-images/0518059711_1_1_1.jpg\",\n{\n            'v': 1697613114154364,\n            'f': \"1697613114154364\",\n        },\n\"image/jpeg\",\n{\n            'v': 268451,\n            'f': \"268451\",\n        },\n\"86981e744a399de2fcf24789d2a0fd54\",\n\"2023-10-18 07:11:54.192000+00:00\",\n\"[]\"],\n [{\n            'v': 10,\n            'f': \"10\",\n        },\n\"gs://vector_store-genai-387907-images/0653786630_6_1_1.jpg\",\n{\n            'v': 1697613114955751,\n            'f': \"1697613114955751\",\n        },\n\"image/jpeg\",\n{\n            'v': 166377,\n            'f': \"166377\",\n        },\n\"dc154120b86d6d69bfe1a1bc8ac7a8dc\",\n\"2023-10-18 07:11:54.995000+00:00\",\n\"[]\"],\n [{\n            'v': 11,\n            'f': \"11\",\n        },\n\"gs://vector_store-genai-387907-images/0722792400_6_1_1.jpg\",\n{\n            'v': 1697613115057742,\n            'f': \"1697613115057742\",\n        },\n\"image/jpeg\",\n{\n            'v': 181275,\n            'f': \"181275\",\n        },\n\"9abbfc64880f897700c5c1b293a118ad\",\n\"2023-10-18 07:11:55.098000+00:00\",\n\"[]\"],\n [{\n            'v': 12,\n            'f': \"12\",\n        },\n\"gs://vector_store-genai-387907-images/0840235515_2_3_1.jpg\",\n{\n            'v': 1697613115553031,\n            'f': \"1697613115553031\",\n        },\n\"image/jpeg\",\n{\n            'v': 232328,\n            'f': \"232328\",\n        },\n\"28a487c2deb7b4dc93835a6d5b9740c3\",\n\"2023-10-18 07:11:55.592000+00:00\",\n\"[]\"],\n [{\n            'v': 13,\n            'f': \"13\",\n        },\n\"gs://vector_store-genai-387907-images/0843334775_1_1_1.jpg\",\n{\n            'v': 1697613116555488,\n            'f': \"1697613116555488\",\n        },\n\"image/jpeg\",\n{\n            'v': 430532,\n            'f': \"430532\",\n        },\n\"94a050d1a56e1817c736c52e2fdc2474\",\n\"2023-10-18 07:11:56.594000+00:00\",\n\"[]\"],\n [{\n            'v': 14,\n            'f': \"14\",\n        },\n\"gs://vector_store-genai-387907-images/1165680701_1_1_1.jpg\",\n{\n            'v': 1697613089751397,\n            'f': \"1697613089751397\",\n        },\n\"image/jpeg\",\n{\n            'v': 581953,\n            'f': \"581953\",\n        },\n\"142c2e41a3d714c37c5c137036f1383a\",\n\"2023-10-18 07:11:29.789000+00:00\",\n\"[]\"],\n [{\n            'v': 15,\n            'f': \"15\",\n        },\n\"gs://vector_store-genai-387907-images/1165719800_6_1_1.jpg\",\n{\n            'v': 1697613116853210,\n            'f': \"1697613116853210\",\n        },\n\"image/jpeg\",\n{\n            'v': 444057,\n            'f': \"444057\",\n        },\n\"0a2d7386af633bdf946a58ee5fbe2abd\",\n\"2023-10-18 07:11:56.892000+00:00\",\n\"[]\"],\n [{\n            'v': 16,\n            'f': \"16\",\n        },\n\"gs://vector_store-genai-387907-images/1386552700_6_1_1.jpg\",\n{\n            'v': 1697613116752606,\n            'f': \"1697613116752606\",\n        },\n\"image/jpeg\",\n{\n            'v': 151214,\n            'f': \"151214\",\n        },\n\"4df275056879d3e3bf143fb123565a09\",\n\"2023-10-18 07:11:56.790000+00:00\",\n\"[]\"],\n [{\n            'v': 17,\n            'f': \"17\",\n        },\n\"gs://vector_store-genai-387907-images/1538403401_6_1_1.jpg\",\n{\n            'v': 1697613117753897,\n            'f': \"1697613117753897\",\n        },\n\"image/jpeg\",\n{\n            'v': 143258,\n            'f': \"143258\",\n        },\n\"d041624b8c3a8866e5d24e9a8b4c3204\",\n\"2023-10-18 07:11:57.793000+00:00\",\n\"[]\"],\n [{\n            'v': 18,\n            'f': \"18\",\n        },\n\"gs://vector_store-genai-387907-images/1608360800_1_1_1.jpg\",\n{\n            'v': 1697613117958143,\n            'f': \"1697613117958143\",\n        },\n\"image/jpeg\",\n{\n            'v': 116028,\n            'f': \"116028\",\n        },\n\"600fc67ec192f66d6b337b53325b53a6\",\n\"2023-10-18 07:11:57.997000+00:00\",\n\"[]\"],\n [{\n            'v': 19,\n            'f': \"19\",\n        },\n\"gs://vector_store-genai-387907-images/1716345611_6_1_1.jpg\",\n{\n            'v': 1697613118057631,\n            'f': \"1697613118057631\",\n        },\n\"image/jpeg\",\n{\n            'v': 98511,\n            'f': \"98511\",\n        },\n\"0fb8446db822029242808eef8ac12e55\",\n\"2023-10-18 07:11:58.096000+00:00\",\n\"[]\"],\n [{\n            'v': 20,\n            'f': \"20\",\n        },\n\"gs://vector_store-genai-387907-images/1856360808_1_1_1.jpg\",\n{\n            'v': 1697613119352441,\n            'f': \"1697613119352441\",\n        },\n\"image/jpeg\",\n{\n            'v': 657679,\n            'f': \"657679\",\n        },\n\"a3105f381d0a70a5d3493634877bbaae\",\n\"2023-10-18 07:11:59.405000+00:00\",\n\"[]\"],\n [{\n            'v': 21,\n            'f': \"21\",\n        },\n\"gs://vector_store-genai-387907-images/1856381303_1_1_1.jpg\",\n{\n            'v': 1697613119556909,\n            'f': \"1697613119556909\",\n        },\n\"image/jpeg\",\n{\n            'v': 684042,\n            'f': \"684042\",\n        },\n\"c3a923bd616adf94d458ff018c8e91e4\",\n\"2023-10-18 07:11:59.594000+00:00\",\n\"[]\"],\n [{\n            'v': 22,\n            'f': \"22\",\n        },\n\"gs://vector_store-genai-387907-images/1880531802_6_1_1.jpg\",\n{\n            'v': 1697613091158510,\n            'f': \"1697613091158510\",\n        },\n\"image/jpeg\",\n{\n            'v': 202865,\n            'f': \"202865\",\n        },\n\"d24dc4cfd804ba9451cf1c2da5124278\",\n\"2023-10-18 07:11:31.199000+00:00\",\n\"[]\"],\n [{\n            'v': 23,\n            'f': \"23\",\n        },\n\"gs://vector_store-genai-387907-images/1880566401_6_1_1.jpg\",\n{\n            'v': 1697613119356051,\n            'f': \"1697613119356051\",\n        },\n\"image/jpeg\",\n{\n            'v': 163445,\n            'f': \"163445\",\n        },\n\"35eafa64696636831c053f1d7118d277\",\n\"2023-10-18 07:11:59.411000+00:00\",\n\"[]\"],\n [{\n            'v': 24,\n            'f': \"24\",\n        },\n\"gs://vector_store-genai-387907-images/1880676800_6_1_1.jpg\",\n{\n            'v': 1697613120415138,\n            'f': \"1697613120415138\",\n        },\n\"image/jpeg\",\n{\n            'v': 89279,\n            'f': \"89279\",\n        },\n\"e2b4da5fda372fe84dd1270293a71ae1\",\n\"2023-10-18 07:12:00.457000+00:00\",\n\"[]\"],\n [{\n            'v': 25,\n            'f': \"25\",\n        },\n\"gs://vector_store-genai-387907-images/2108220800_6_1_1.jpg\",\n{\n            'v': 1697613120609380,\n            'f': \"1697613120609380\",\n        },\n\"image/jpeg\",\n{\n            'v': 216167,\n            'f': \"216167\",\n        },\n\"684496a2af85dc454d9268f0ca4d20b0\",\n\"2023-10-18 07:12:00.649000+00:00\",\n\"[]\"],\n [{\n            'v': 26,\n            'f': \"26\",\n        },\n\"gs://vector_store-genai-387907-images/2298651800_1_1_1.jpg\",\n{\n            'v': 1697613121091346,\n            'f': \"1697613121091346\",\n        },\n\"image/jpeg\",\n{\n            'v': 409880,\n            'f': \"409880\",\n        },\n\"eb31feb05ab0afc231cbffb836f93ca0\",\n\"2023-10-18 07:12:01.131000+00:00\",\n\"[]\"],\n [{\n            'v': 27,\n            'f': \"27\",\n        },\n\"gs://vector_store-genai-387907-images/2301000002_1_1_1.jpg\",\n{\n            'v': 1697613121735968,\n            'f': \"1697613121735968\",\n        },\n\"image/jpeg\",\n{\n            'v': 352329,\n            'f': \"352329\",\n        },\n\"87ba353f1919f594604a6cd2ff0b654d\",\n\"2023-10-18 07:12:01.782000+00:00\",\n\"[]\"],\n [{\n            'v': 28,\n            'f': \"28\",\n        },\n\"gs://vector_store-genai-387907-images/2308012712_1_1_1.jpg\",\n{\n            'v': 1697613091551067,\n            'f': \"1697613091551067\",\n        },\n\"image/jpeg\",\n{\n            'v': 582589,\n            'f': \"582589\",\n        },\n\"eebb1f4c078a16803386d41d60b94034\",\n\"2023-10-18 07:11:31.589000+00:00\",\n\"[]\"],\n [{\n            'v': 29,\n            'f': \"29\",\n        },\n\"gs://vector_store-genai-387907-images/2341120800_6_1_1.jpg\",\n{\n            'v': 1697613121763441,\n            'f': \"1697613121763441\",\n        },\n\"image/jpeg\",\n{\n            'v': 222946,\n            'f': \"222946\",\n        },\n\"c8549c287577cae23aa0bb000c1a949e\",\n\"2023-10-18 07:12:01.804000+00:00\",\n\"[]\"],\n [{\n            'v': 30,\n            'f': \"30\",\n        },\n\"gs://vector_store-genai-387907-images/2420220040_6_1_1.jpg\",\n{\n            'v': 1697613122207071,\n            'f': \"1697613122207071\",\n        },\n\"image/jpeg\",\n{\n            'v': 214917,\n            'f': \"214917\",\n        },\n\"4673144549f8891867106e2d0ea8c505\",\n\"2023-10-18 07:12:02.245000+00:00\",\n\"[]\"],\n [{\n            'v': 31,\n            'f': \"31\",\n        },\n\"gs://vector_store-genai-387907-images/2460220800_6_1_1.jpg\",\n{\n            'v': 1697613122691485,\n            'f': \"1697613122691485\",\n        },\n\"image/jpeg\",\n{\n            'v': 113580,\n            'f': \"113580\",\n        },\n\"d01970020a5641034f99dc945e782732\",\n\"2023-10-18 07:12:02.730000+00:00\",\n\"[]\"],\n [{\n            'v': 32,\n            'f': \"32\",\n        },\n\"gs://vector_store-genai-387907-images/2582510800_6_1_1.jpg\",\n{\n            'v': 1697613122755167,\n            'f': \"1697613122755167\",\n        },\n\"image/jpeg\",\n{\n            'v': 127334,\n            'f': \"127334\",\n        },\n\"0f890f28a80a5eed63d02f8be6e4b3a5\",\n\"2023-10-18 07:12:02.794000+00:00\",\n\"[]\"],\n [{\n            'v': 33,\n            'f': \"33\",\n        },\n\"gs://vector_store-genai-387907-images/2632304700_6_1_1.jpg\",\n{\n            'v': 1697613123647488,\n            'f': \"1697613123647488\",\n        },\n\"image/jpeg\",\n{\n            'v': 876146,\n            'f': \"876146\",\n        },\n\"69d1551804f59eda826b23dc9b0b2149\",\n\"2023-10-18 07:12:03.686000+00:00\",\n\"[]\"],\n [{\n            'v': 34,\n            'f': \"34\",\n        },\n\"gs://vector_store-genai-387907-images/2675706615_6_1_1.jpg\",\n{\n            'v': 1697613123950387,\n            'f': \"1697613123950387\",\n        },\n\"image/jpeg\",\n{\n            'v': 337501,\n            'f': \"337501\",\n        },\n\"cf6780c28b593e3b7f05891072fe5f2e\",\n\"2023-10-18 07:12:03.989000+00:00\",\n\"[]\"],\n [{\n            'v': 35,\n            'f': \"35\",\n        },\n\"gs://vector_store-genai-387907-images/2712220400_6_1_1.jpg\",\n{\n            'v': 1697613123814885,\n            'f': \"1697613123814885\",\n        },\n\"image/jpeg\",\n{\n            'v': 191596,\n            'f': \"191596\",\n        },\n\"75edba8e9598a8bdedb8a9146eabd254\",\n\"2023-10-18 07:12:03.853000+00:00\",\n\"[]\"],\n [{\n            'v': 36,\n            'f': \"36\",\n        },\n\"gs://vector_store-genai-387907-images/2727206620_1_1_1.jpg\",\n{\n            'v': 1697613091755836,\n            'f': \"1697613091755836\",\n        },\n\"image/jpeg\",\n{\n            'v': 263433,\n            'f': \"263433\",\n        },\n\"387f5a6a3423d9c0db4fa938d15a1f1d\",\n\"2023-10-18 07:11:31.794000+00:00\",\n\"[]\"],\n [{\n            'v': 37,\n            'f': \"37\",\n        },\n\"gs://vector_store-genai-387907-images/2823305500_6_1_1.jpg\",\n{\n            'v': 1697613124610323,\n            'f': \"1697613124610323\",\n        },\n\"image/jpeg\",\n{\n            'v': 124100,\n            'f': \"124100\",\n        },\n\"663de0ccf0d478dc47879dfe2afbb623\",\n\"2023-10-18 07:12:04.649000+00:00\",\n\"[]\"],\n [{\n            'v': 38,\n            'f': \"38\",\n        },\n\"gs://vector_store-genai-387907-images/2888300800_6_1_1.jpg\",\n{\n            'v': 1697613124850283,\n            'f': \"1697613124850283\",\n        },\n\"image/jpeg\",\n{\n            'v': 177940,\n            'f': \"177940\",\n        },\n\"6deb600251846a7565771b6b0a02a356\",\n\"2023-10-18 07:12:04.898000+00:00\",\n\"[]\"],\n [{\n            'v': 39,\n            'f': \"39\",\n        },\n\"gs://vector_store-genai-387907-images/2893108704_1_1_1.jpg\",\n{\n            'v': 1697613125243343,\n            'f': \"1697613125243343\",\n        },\n\"image/jpeg\",\n{\n            'v': 595029,\n            'f': \"595029\",\n        },\n\"7737fde4f5fa7e06ede1aff3b804d319\",\n\"2023-10-18 07:12:05.281000+00:00\",\n\"[]\"],\n [{\n            'v': 40,\n            'f': \"40\",\n        },\n\"gs://vector_store-genai-387907-images/3336109807_6_1_1.jpg\",\n{\n            'v': 1697613125594615,\n            'f': \"1697613125594615\",\n        },\n\"image/jpeg\",\n{\n            'v': 148294,\n            'f': \"148294\",\n        },\n\"9a1780e416f6607eff922a297adb5765\",\n\"2023-10-18 07:12:05.634000+00:00\",\n\"[]\"],\n [{\n            'v': 41,\n            'f': \"41\",\n        },\n\"gs://vector_store-genai-387907-images/3336237611_6_1_1.jpg\",\n{\n            'v': 1697613125872699,\n            'f': \"1697613125872699\",\n        },\n\"image/jpeg\",\n{\n            'v': 201864,\n            'f': \"201864\",\n        },\n\"b019e24aa0f9eebfafbb20f7672c023c\",\n\"2023-10-18 07:12:05.910000+00:00\",\n\"[]\"],\n [{\n            'v': 42,\n            'f': \"42\",\n        },\n\"gs://vector_store-genai-387907-images/3338189515_6_1_1.jpg\",\n{\n            'v': 1697613126204602,\n            'f': \"1697613126204602\",\n        },\n\"image/jpeg\",\n{\n            'v': 146847,\n            'f': \"146847\",\n        },\n\"a664e80bd069011517a0b384626dfe33\",\n\"2023-10-18 07:12:06.243000+00:00\",\n\"[]\"],\n [{\n            'v': 43,\n            'f': \"43\",\n        },\n\"gs://vector_store-genai-387907-images/3625220133_6_1_1.jpg\",\n{\n            'v': 1697613126683230,\n            'f': \"1697613126683230\",\n        },\n\"image/jpeg\",\n{\n            'v': 202844,\n            'f': \"202844\",\n        },\n\"4fc51c712028c13f1c0e23a128a60acd\",\n\"2023-10-18 07:12:06.724000+00:00\",\n\"[]\"],\n [{\n            'v': 44,\n            'f': \"44\",\n        },\n\"gs://vector_store-genai-387907-images/3625220805_6_1_1.jpg\",\n{\n            'v': 1697613126956419,\n            'f': \"1697613126956419\",\n        },\n\"image/jpeg\",\n{\n            'v': 215076,\n            'f': \"215076\",\n        },\n\"7744f4f0d0643ab30ac7d8e7ffb5b6bf\",\n\"2023-10-18 07:12:07.011000+00:00\",\n\"[]\"],\n [{\n            'v': 45,\n            'f': \"45\",\n        },\n\"gs://vector_store-genai-387907-images/3771748800_6_1_1.jpg\",\n{\n            'v': 1697613127066000,\n            'f': \"1697613127066000\",\n        },\n\"image/jpeg\",\n{\n            'v': 68689,\n            'f': \"68689\",\n        },\n\"930c5c1fe72d5f6626edcd2bb7df26f3\",\n\"2023-10-18 07:12:07.105000+00:00\",\n\"[]\"],\n [{\n            'v': 46,\n            'f': \"46\",\n        },\n\"gs://vector_store-genai-387907-images/3854669400_6_1_1.jpg\",\n{\n            'v': 1697613127816821,\n            'f': \"1697613127816821\",\n        },\n\"image/jpeg\",\n{\n            'v': 322780,\n            'f': \"322780\",\n        },\n\"2de388b4f7b260eb11c2149afe637020\",\n\"2023-10-18 07:12:07.865000+00:00\",\n\"[]\"],\n [{\n            'v': 47,\n            'f': \"47\",\n        },\n\"gs://vector_store-genai-387907-images/3905931250_1_1_1.jpg\",\n{\n            'v': 1697613128454186,\n            'f': \"1697613128454186\",\n        },\n\"image/jpeg\",\n{\n            'v': 471218,\n            'f': \"471218\",\n        },\n\"7ddef3e3b933fc796d7ad545c18f5949\",\n\"2023-10-18 07:12:08.494000+00:00\",\n\"[]\"],\n [{\n            'v': 48,\n            'f': \"48\",\n        },\n\"gs://vector_store-genai-387907-images/3918601717_6_1_1.jpg\",\n{\n            'v': 1697613129143835,\n            'f': \"1697613129143835\",\n        },\n\"image/jpeg\",\n{\n            'v': 699146,\n            'f': \"699146\",\n        },\n\"3da5503dcf7050cf257e633aa3ec3216\",\n\"2023-10-18 07:12:09.182000+00:00\",\n\"[]\"],\n [{\n            'v': 49,\n            'f': \"49\",\n        },\n\"gs://vector_store-genai-387907-images/3991101712_1_1_1.jpg\",\n{\n            'v': 1697613129699798,\n            'f': \"1697613129699798\",\n        },\n\"image/jpeg\",\n{\n            'v': 532203,\n            'f': \"532203\",\n        },\n\"bc420d6e2dfb1c924a7197306c5d2b0f\",\n\"2023-10-18 07:12:09.739000+00:00\",\n\"[]\"],\n [{\n            'v': 50,\n            'f': \"50\",\n        },\n\"gs://vector_store-genai-387907-images/3991126800_1_1_1.jpg\",\n{\n            'v': 1697613129634180,\n            'f': \"1697613129634180\",\n        },\n\"image/jpeg\",\n{\n            'v': 231142,\n            'f': \"231142\",\n        },\n\"685614fd6ae88c4d05233eb09c8344f9\",\n\"2023-10-18 07:12:09.672000+00:00\",\n\"[]\"],\n [{\n            'v': 51,\n            'f': \"51\",\n        },\n\"gs://vector_store-genai-387907-images/3992333629_6_1_1.jpg\",\n{\n            'v': 1697613130164805,\n            'f': \"1697613130164805\",\n        },\n\"image/jpeg\",\n{\n            'v': 221066,\n            'f': \"221066\",\n        },\n\"d6b8a567686a114382ad547bb04cc68a\",\n\"2023-10-18 07:12:10.204000+00:00\",\n\"[]\"],\n [{\n            'v': 52,\n            'f': \"52\",\n        },\n\"gs://vector_store-genai-387907-images/4087760800_6_1_1.jpg\",\n{\n            'v': 1697613130558077,\n            'f': \"1697613130558077\",\n        },\n\"image/jpeg\",\n{\n            'v': 120307,\n            'f': \"120307\",\n        },\n\"aa7270a49d34cd908f2ac29c1d0e8713\",\n\"2023-10-18 07:12:10.597000+00:00\",\n\"[]\"],\n [{\n            'v': 53,\n            'f': \"53\",\n        },\n\"gs://vector_store-genai-387907-images/4090303832_6_1_1.jpg\",\n{\n            'v': 1697613131029419,\n            'f': \"1697613131029419\",\n        },\n\"image/jpeg\",\n{\n            'v': 523529,\n            'f': \"523529\",\n        },\n\"cab79a2c06783ba3c8c7ccc0a27d8428\",\n\"2023-10-18 07:12:11.068000+00:00\",\n\"[]\"],\n [{\n            'v': 54,\n            'f': \"54\",\n        },\n\"gs://vector_store-genai-387907-images/4161300712_6_1_1.jpg\",\n{\n            'v': 1697613131287282,\n            'f': \"1697613131287282\",\n        },\n\"image/jpeg\",\n{\n            'v': 275705,\n            'f': \"275705\",\n        },\n\"baafa3ab83816810a714f72f846d6fbb\",\n\"2023-10-18 07:12:11.325000+00:00\",\n\"[]\"],\n [{\n            'v': 55,\n            'f': \"55\",\n        },\n\"gs://vector_store-genai-387907-images/4174813250_1_1_1.jpg\",\n{\n            'v': 1697613131902329,\n            'f': \"1697613131902329\",\n        },\n\"image/jpeg\",\n{\n            'v': 901052,\n            'f': \"901052\",\n        },\n\"ad363604d9ac8175b23a83294f707d46\",\n\"2023-10-18 07:12:11.942000+00:00\",\n\"[]\"],\n [{\n            'v': 56,\n            'f': \"56\",\n        },\n\"gs://vector_store-genai-387907-images/4365304406_6_1_1.jpg\",\n{\n            'v': 1697613154539877,\n            'f': \"1697613154539877\",\n        },\n\"image/jpeg\",\n{\n            'v': 620568,\n            'f': \"620568\",\n        },\n\"56a4c9a88120c41dc910074988f0c4e3\",\n\"2023-10-18 07:12:34.665000+00:00\",\n\"[]\"],\n [{\n            'v': 57,\n            'f': \"57\",\n        },\n\"gs://vector_store-genai-387907-images/4369001800_1_1_1.jpg\",\n{\n            'v': 1697613132463070,\n            'f': \"1697613132463070\",\n        },\n\"image/jpeg\",\n{\n            'v': 158528,\n            'f': \"158528\",\n        },\n\"b390f1f9c0fc8ac2d7d1d56de62c5244\",\n\"2023-10-18 07:12:12.516000+00:00\",\n\"[]\"],\n [{\n            'v': 58,\n            'f': \"58\",\n        },\n\"gs://vector_store-genai-387907-images/4391503800_1_1_1.jpg\",\n{\n            'v': 1697613133070837,\n            'f': \"1697613133070837\",\n        },\n\"image/jpeg\",\n{\n            'v': 362424,\n            'f': \"362424\",\n        },\n\"355fe45d49ae0d203894cbfa4a851542\",\n\"2023-10-18 07:12:13.110000+00:00\",\n\"[]\"],\n [{\n            'v': 59,\n            'f': \"59\",\n        },\n\"gs://vector_store-genai-387907-images/4424355712_6_1_1.jpg\",\n{\n            'v': 1697613133491350,\n            'f': \"1697613133491350\",\n        },\n\"image/jpeg\",\n{\n            'v': 141752,\n            'f': \"141752\",\n        },\n\"94876f522cb3aeb84eba9f7ca90ecb4b\",\n\"2023-10-18 07:12:13.537000+00:00\",\n\"[]\"],\n [{\n            'v': 60,\n            'f': \"60\",\n        },\n\"gs://vector_store-genai-387907-images/4548234303_1_1_1.jpg\",\n{\n            'v': 1697613133730279,\n            'f': \"1697613133730279\",\n        },\n\"image/jpeg\",\n{\n            'v': 469780,\n            'f': \"469780\",\n        },\n\"9f5dc0749ddf28faab267b8df1bd65d7\",\n\"2023-10-18 07:12:13.768000+00:00\",\n\"[]\"],\n [{\n            'v': 61,\n            'f': \"61\",\n        },\n\"gs://vector_store-genai-387907-images/4770451800_1_1_1.jpg\",\n{\n            'v': 1697613134138662,\n            'f': \"1697613134138662\",\n        },\n\"image/jpeg\",\n{\n            'v': 277398,\n            'f': \"277398\",\n        },\n\"c13e7f2018334cc597208da9877fde66\",\n\"2023-10-18 07:12:14.177000+00:00\",\n\"[]\"],\n [{\n            'v': 62,\n            'f': \"62\",\n        },\n\"gs://vector_store-genai-387907-images/4786289251_1_1_1.jpg\",\n{\n            'v': 1697613135049238,\n            'f': \"1697613135049238\",\n        },\n\"image/jpeg\",\n{\n            'v': 689166,\n            'f': \"689166\",\n        },\n\"d395e2f88a8a2cc6d40d8feed0cd03f3\",\n\"2023-10-18 07:12:15.086000+00:00\",\n\"[]\"],\n [{\n            'v': 63,\n            'f': \"63\",\n        },\n\"gs://vector_store-genai-387907-images/4805553712_6_1_1.jpg\",\n{\n            'v': 1697613135010466,\n            'f': \"1697613135010466\",\n        },\n\"image/jpeg\",\n{\n            'v': 69658,\n            'f': \"69658\",\n        },\n\"2dd82c8cad52059416b84d95ece600ea\",\n\"2023-10-18 07:12:15.066000+00:00\",\n\"[]\"],\n [{\n            'v': 64,\n            'f': \"64\",\n        },\n\"gs://vector_store-genai-387907-images/4805767700_6_1_1.jpg\",\n{\n            'v': 1697613136022059,\n            'f': \"1697613136022059\",\n        },\n\"image/jpeg\",\n{\n            'v': 283911,\n            'f': \"283911\",\n        },\n\"bfa5051953c30081e754d53eb2d88e3b\",\n\"2023-10-18 07:12:16.061000+00:00\",\n\"[]\"],\n [{\n            'v': 65,\n            'f': \"65\",\n        },\n\"gs://vector_store-genai-387907-images/5039370117_1_1_1.jpg\",\n{\n            'v': 1697613136117402,\n            'f': \"1697613136117402\",\n        },\n\"image/jpeg\",\n{\n            'v': 657987,\n            'f': \"657987\",\n        },\n\"d3f1706800baee19bda02582cebd845b\",\n\"2023-10-18 07:12:16.156000+00:00\",\n\"[]\"],\n [{\n            'v': 66,\n            'f': \"66\",\n        },\n\"gs://vector_store-genai-387907-images/5048610400_6_1_1.jpg\",\n{\n            'v': 1697613137351967,\n            'f': \"1697613137351967\",\n        },\n\"image/jpeg\",\n{\n            'v': 149898,\n            'f': \"149898\",\n        },\n\"46b7a6f711039b4ef6ae03b80524d0fe\",\n\"2023-10-18 07:12:17.395000+00:00\",\n\"[]\"],\n [{\n            'v': 67,\n            'f': \"67\",\n        },\n\"gs://vector_store-genai-387907-images/5048702500_6_1_1.jpg\",\n{\n            'v': 1697613137508996,\n            'f': \"1697613137508996\",\n        },\n\"image/jpeg\",\n{\n            'v': 125206,\n            'f': \"125206\",\n        },\n\"6d82d486154f548c98ca204ca9acc141\",\n\"2023-10-18 07:12:17.564000+00:00\",\n\"[]\"],\n [{\n            'v': 68,\n            'f': \"68\",\n        },\n\"gs://vector_store-genai-387907-images/5070503800_6_1_1.jpg\",\n{\n            'v': 1697613137503929,\n            'f': \"1697613137503929\",\n        },\n\"image/jpeg\",\n{\n            'v': 100753,\n            'f': \"100753\",\n        },\n\"5427ef3001b51a957950494b2de500ea\",\n\"2023-10-18 07:12:17.544000+00:00\",\n\"[]\"],\n [{\n            'v': 69,\n            'f': \"69\",\n        },\n\"gs://vector_store-genai-387907-images/5070646800_1_1_1.jpg\",\n{\n            'v': 1697613138994429,\n            'f': \"1697613138994429\",\n        },\n\"image/jpeg\",\n{\n            'v': 315988,\n            'f': \"315988\",\n        },\n\"4e177798eef2b190e0e70a87af1fc225\",\n\"2023-10-18 07:12:19.049000+00:00\",\n\"[]\"],\n [{\n            'v': 70,\n            'f': \"70\",\n        },\n\"gs://vector_store-genai-387907-images/5372302070_6_1_1.jpg\",\n{\n            'v': 1697613139523491,\n            'f': \"1697613139523491\",\n        },\n\"image/jpeg\",\n{\n            'v': 490221,\n            'f': \"490221\",\n        },\n\"0a66ee722a937da2b733d399f48d76a3\",\n\"2023-10-18 07:12:19.560000+00:00\",\n\"[]\"],\n [{\n            'v': 71,\n            'f': \"71\",\n        },\n\"gs://vector_store-genai-387907-images/5388700400_6_1_1.jpg\",\n{\n            'v': 1697613139683423,\n            'f': \"1697613139683423\",\n        },\n\"image/jpeg\",\n{\n            'v': 318387,\n            'f': \"318387\",\n        },\n\"af638fedb44a7f850709e2dc00401797\",\n\"2023-10-18 07:12:19.721000+00:00\",\n\"[]\"],\n [{\n            'v': 72,\n            'f': \"72\",\n        },\n\"gs://vector_store-genai-387907-images/5418110202_6_1_1.jpg\",\n{\n            'v': 1697613140920307,\n            'f': \"1697613140920307\",\n        },\n\"image/jpeg\",\n{\n            'v': 322462,\n            'f': \"322462\",\n        },\n\"d5fb728aba0c25425f6ae0ad22a31816\",\n\"2023-10-18 07:12:20.958000+00:00\",\n\"[]\"],\n [{\n            'v': 73,\n            'f': \"73\",\n        },\n\"gs://vector_store-genai-387907-images/5420210800_6_1_1.jpg\",\n{\n            'v': 1697613141271641,\n            'f': \"1697613141271641\",\n        },\n\"image/jpeg\",\n{\n            'v': 312082,\n            'f': \"312082\",\n        },\n\"3fca228ec89c5b6bcd14b0ebbb9a0016\",\n\"2023-10-18 07:12:21.309000+00:00\",\n\"[]\"],\n [{\n            'v': 74,\n            'f': \"74\",\n        },\n\"gs://vector_store-genai-387907-images/5536126806_1_1_1.jpg\",\n{\n            'v': 1697613141477926,\n            'f': \"1697613141477926\",\n        },\n\"image/jpeg\",\n{\n            'v': 505147,\n            'f': \"505147\",\n        },\n\"9b8f6ba0ac8b9775c7143a4b1842b0c8\",\n\"2023-10-18 07:12:21.517000+00:00\",\n\"[]\"],\n [{\n            'v': 75,\n            'f': \"75\",\n        },\n\"gs://vector_store-genai-387907-images/5536562712_6_1_1.jpg\",\n{\n            'v': 1697613142179161,\n            'f': \"1697613142179161\",\n        },\n\"image/jpeg\",\n{\n            'v': 103399,\n            'f': \"103399\",\n        },\n\"158b11fdaa69cd45fdcc49e3e9551e51\",\n\"2023-10-18 07:12:22.218000+00:00\",\n\"[]\"],\n [{\n            'v': 76,\n            'f': \"76\",\n        },\n\"gs://vector_store-genai-387907-images/5643532250_6_1_1.jpg\",\n{\n            'v': 1697613142277260,\n            'f': \"1697613142277260\",\n        },\n\"image/jpeg\",\n{\n            'v': 111924,\n            'f': \"111924\",\n        },\n\"073c0e362171b4e06cdb302f30fd0ca2\",\n\"2023-10-18 07:12:22.315000+00:00\",\n\"[]\"],\n [{\n            'v': 77,\n            'f': \"77\",\n        },\n\"gs://vector_store-genai-387907-images/5886779620_6_1_1.jpg\",\n{\n            'v': 1697613142331291,\n            'f': \"1697613142331291\",\n        },\n\"image/jpeg\",\n{\n            'v': 77108,\n            'f': \"77108\",\n        },\n\"d2d12795e3f1ca5de0e2ea59f194a980\",\n\"2023-10-18 07:12:22.369000+00:00\",\n\"[]\"],\n [{\n            'v': 78,\n            'f': \"78\",\n        },\n\"gs://vector_store-genai-387907-images/6029230604_6_1_1.jpg\",\n{\n            'v': 1697613143213865,\n            'f': \"1697613143213865\",\n        },\n\"image/jpeg\",\n{\n            'v': 156504,\n            'f': \"156504\",\n        },\n\"238da2c9092495fad5dc9bc25fe639fc\",\n\"2023-10-18 07:12:23.251000+00:00\",\n\"[]\"],\n [{\n            'v': 79,\n            'f': \"79\",\n        },\n\"gs://vector_store-genai-387907-images/6061548959_6_1_1.jpg\",\n{\n            'v': 1697613143381159,\n            'f': \"1697613143381159\",\n        },\n\"image/jpeg\",\n{\n            'v': 166753,\n            'f': \"166753\",\n        },\n\"e9a2e4adcc8e2bab1c1b153aaef8d3a1\",\n\"2023-10-18 07:12:23.419000+00:00\",\n\"[]\"],\n [{\n            'v': 80,\n            'f': \"80\",\n        },\n\"gs://vector_store-genai-387907-images/6149230107_6_1_1.jpg\",\n{\n            'v': 1697613143585513,\n            'f': \"1697613143585513\",\n        },\n\"image/jpeg\",\n{\n            'v': 119569,\n            'f': \"119569\",\n        },\n\"4f656631cf91bd8d98341a2222e70762\",\n\"2023-10-18 07:12:23.625000+00:00\",\n\"[]\"],\n [{\n            'v': 81,\n            'f': \"81\",\n        },\n\"gs://vector_store-genai-387907-images/6164179427_1_1_1.jpg\",\n{\n            'v': 1697613144312990,\n            'f': \"1697613144312990\",\n        },\n\"image/jpeg\",\n{\n            'v': 355957,\n            'f': \"355957\",\n        },\n\"e8e44b8e194c405148436000c09e94be\",\n\"2023-10-18 07:12:24.350000+00:00\",\n\"[]\"],\n [{\n            'v': 82,\n            'f': \"82\",\n        },\n\"gs://vector_store-genai-387907-images/6224396251_6_1_1.jpg\",\n{\n            'v': 1697613144399468,\n            'f': \"1697613144399468\",\n        },\n\"image/jpeg\",\n{\n            'v': 77130,\n            'f': \"77130\",\n        },\n\"77107756feb4d52199adf096cadcd8de\",\n\"2023-10-18 07:12:24.450000+00:00\",\n\"[]\"],\n [{\n            'v': 83,\n            'f': \"83\",\n        },\n\"gs://vector_store-genai-387907-images/6224628633_6_1_1.jpg\",\n{\n            'v': 1697613145224016,\n            'f': \"1697613145224016\",\n        },\n\"image/jpeg\",\n{\n            'v': 164664,\n            'f': \"164664\",\n        },\n\"ad912870aa87313fac3b64f66ab30af0\",\n\"2023-10-18 07:12:25.263000+00:00\",\n\"[]\"],\n [{\n            'v': 84,\n            'f': \"84\",\n        },\n\"gs://vector_store-genai-387907-images/6330011330_6_1_1.jpg\",\n{\n            'v': 1697613145667928,\n            'f': \"1697613145667928\",\n        },\n\"image/jpeg\",\n{\n            'v': 927050,\n            'f': \"927050\",\n        },\n\"1534fc2dd29ee03257cd2a4bc7b7be3a\",\n\"2023-10-18 07:12:25.706000+00:00\",\n\"[]\"],\n [{\n            'v': 85,\n            'f': \"85\",\n        },\n\"gs://vector_store-genai-387907-images/6688209800_1_1_1.jpg\",\n{\n            'v': 1697613145513547,\n            'f': \"1697613145513547\",\n        },\n\"image/jpeg\",\n{\n            'v': 469931,\n            'f': \"469931\",\n        },\n\"0606258d0bc48424797fab5f94d65a2f\",\n\"2023-10-18 07:12:25.552000+00:00\",\n\"[]\"],\n [{\n            'v': 86,\n            'f': \"86\",\n        },\n\"gs://vector_store-genai-387907-images/6739230400_6_1_1.jpg\",\n{\n            'v': 1697613146024194,\n            'f': \"1697613146024194\",\n        },\n\"image/jpeg\",\n{\n            'v': 83128,\n            'f': \"83128\",\n        },\n\"5bf23a020ff9567087508477f26bd049\",\n\"2023-10-18 07:12:26.062000+00:00\",\n\"[]\"],\n [{\n            'v': 87,\n            'f': \"87\",\n        },\n\"gs://vector_store-genai-387907-images/6771095800_1_1_1.jpg\",\n{\n            'v': 1697613146769704,\n            'f': \"1697613146769704\",\n        },\n\"image/jpeg\",\n{\n            'v': 752899,\n            'f': \"752899\",\n        },\n\"fa8b15fabf5237daa34dcc4b2b1505a5\",\n\"2023-10-18 07:12:26.809000+00:00\",\n\"[]\"],\n [{\n            'v': 88,\n            'f': \"88\",\n        },\n\"gs://vector_store-genai-387907-images/6861389800_6_1_1.jpg\",\n{\n            'v': 1697613146572080,\n            'f': \"1697613146572080\",\n        },\n\"image/jpeg\",\n{\n            'v': 159062,\n            'f': \"159062\",\n        },\n\"1cbca3e6e88f343c63e7ae55a3931a2a\",\n\"2023-10-18 07:12:26.618000+00:00\",\n\"[]\"],\n [{\n            'v': 89,\n            'f': \"89\",\n        },\n\"gs://vector_store-genai-387907-images/6873111832_1_1_1.jpg\",\n{\n            'v': 1697613147007099,\n            'f': \"1697613147007099\",\n        },\n\"image/jpeg\",\n{\n            'v': 191681,\n            'f': \"191681\",\n        },\n\"14fad04fd4952ad1630e8481c9849176\",\n\"2023-10-18 07:12:27.046000+00:00\",\n\"[]\"],\n [{\n            'v': 90,\n            'f': \"90\",\n        },\n\"gs://vector_store-genai-387907-images/6917764806_6_1_1.jpg\",\n{\n            'v': 1697613147491150,\n            'f': \"1697613147491150\",\n        },\n\"image/jpeg\",\n{\n            'v': 81759,\n            'f': \"81759\",\n        },\n\"4e6145858a3987a69f8bfb74210cf4e5\",\n\"2023-10-18 07:12:27.530000+00:00\",\n\"[]\"],\n [{\n            'v': 91,\n            'f': \"91\",\n        },\n\"gs://vector_store-genai-387907-images/6985453250_6_1_1.jpg\",\n{\n            'v': 1697613147589279,\n            'f': \"1697613147589279\",\n        },\n\"image/jpeg\",\n{\n            'v': 87244,\n            'f': \"87244\",\n        },\n\"7910282b65ffac63de7e80b63d34e999\",\n\"2023-10-18 07:12:27.626000+00:00\",\n\"[]\"],\n [{\n            'v': 92,\n            'f': \"92\",\n        },\n\"gs://vector_store-genai-387907-images/7775588404_1_1_1.jpg\",\n{\n            'v': 1697613147987264,\n            'f': \"1697613147987264\",\n        },\n\"image/jpeg\",\n{\n            'v': 191594,\n            'f': \"191594\",\n        },\n\"3386940a136198e28fb16732cba925aa\",\n\"2023-10-18 07:12:28.027000+00:00\",\n\"[]\"],\n [{\n            'v': 93,\n            'f': \"93\",\n        },\n\"gs://vector_store-genai-387907-images/8041709620_1_1_1.jpg\",\n{\n            'v': 1697613148991405,\n            'f': \"1697613148991405\",\n        },\n\"image/jpeg\",\n{\n            'v': 961325,\n            'f': \"961325\",\n        },\n\"0c59f95bc4662164ec13ff7f24eab466\",\n\"2023-10-18 07:12:29.030000+00:00\",\n\"[]\"],\n [{\n            'v': 94,\n            'f': \"94\",\n        },\n\"gs://vector_store-genai-387907-images/8156463330_1_1_1.jpg\",\n{\n            'v': 1697613148817060,\n            'f': \"1697613148817060\",\n        },\n\"image/jpeg\",\n{\n            'v': 534040,\n            'f': \"534040\",\n        },\n\"d76fd81de9d21a78ba1b144ed9f7e9f8\",\n\"2023-10-18 07:12:28.854000+00:00\",\n\"[]\"],\n [{\n            'v': 95,\n            'f': \"95\",\n        },\n\"gs://vector_store-genai-387907-images/8162786942_1_1_1.jpg\",\n{\n            'v': 1697613149290159,\n            'f': \"1697613149290159\",\n        },\n\"image/jpeg\",\n{\n            'v': 478639,\n            'f': \"478639\",\n        },\n\"899a01ec74b830de54dc06aa5a6b57cd\",\n\"2023-10-18 07:12:29.329000+00:00\",\n\"[]\"],\n [{\n            'v': 96,\n            'f': \"96\",\n        },\n\"gs://vector_store-genai-387907-images/8281469251_6_1_1.jpg\",\n{\n            'v': 1697613149766412,\n            'f': \"1697613149766412\",\n        },\n\"image/jpeg\",\n{\n            'v': 156645,\n            'f': \"156645\",\n        },\n\"37033f00fbc8ec2864dd4f1ae471d558\",\n\"2023-10-18 07:12:29.805000+00:00\",\n\"[]\"],\n [{\n            'v': 97,\n            'f': \"97\",\n        },\n\"gs://vector_store-genai-387907-images/8432361307_1_1_1.jpg\",\n{\n            'v': 1697613150261913,\n            'f': \"1697613150261913\",\n        },\n\"image/jpeg\",\n{\n            'v': 460657,\n            'f': \"460657\",\n        },\n\"7ec3b5a83c871dac58a4cf9e7e8b0b5d\",\n\"2023-10-18 07:12:30.299000+00:00\",\n\"[]\"],\n [{\n            'v': 98,\n            'f': \"98\",\n        },\n\"gs://vector_store-genai-387907-images/8491300704_6_1_1.jpg\",\n{\n            'v': 1697613150509894,\n            'f': \"1697613150509894\",\n        },\n\"image/jpeg\",\n{\n            'v': 541297,\n            'f': \"541297\",\n        },\n\"560f7cda2887ead73a07219cdafbd4f4\",\n\"2023-10-18 07:12:30.547000+00:00\",\n\"[]\"],\n [{\n            'v': 99,\n            'f': \"99\",\n        },\n\"gs://vector_store-genai-387907-images/8563717403_1_1_1.jpg\",\n{\n            'v': 1697613151044552,\n            'f': \"1697613151044552\",\n        },\n\"image/jpeg\",\n{\n            'v': 657398,\n            'f': \"657398\",\n        },\n\"5b1366f23e9dddd8c04d125feb03386a\",\n\"2023-10-18 07:12:31.098000+00:00\",\n\"[]\"],\n [{\n            'v': 100,\n            'f': \"100\",\n        },\n\"gs://vector_store-genai-387907-images/8574349250_6_1_1.jpg\",\n{\n            'v': 1697613151029116,\n            'f': \"1697613151029116\",\n        },\n\"image/jpeg\",\n{\n            'v': 67268,\n            'f': \"67268\",\n        },\n\"559085d31e9c99ceb6dc60526df77fe3\",\n\"2023-10-18 07:12:31.068000+00:00\",\n\"[]\"],\n [{\n            'v': 101,\n            'f': \"101\",\n        },\n\"gs://vector_store-genai-387907-images/8574661800_6_1_1.jpg\",\n{\n            'v': 1697613151408544,\n            'f': \"1697613151408544\",\n        },\n\"image/jpeg\",\n{\n            'v': 184209,\n            'f': \"184209\",\n        },\n\"c05c4b94b4b86997e14a8de5f53aace4\",\n\"2023-10-18 07:12:31.446000+00:00\",\n\"[]\"],\n [{\n            'v': 102,\n            'f': \"102\",\n        },\n\"gs://vector_store-genai-387907-images/8686244485_1_1_1.jpg\",\n{\n            'v': 1697613152003983,\n            'f': \"1697613152003983\",\n        },\n\"image/jpeg\",\n{\n            'v': 250056,\n            'f': \"250056\",\n        },\n\"c078e8f0b9259db7391a3d5ac82c90aa\",\n\"2023-10-18 07:12:32.043000+00:00\",\n\"[]\"],\n [{\n            'v': 103,\n            'f': \"103\",\n        },\n\"gs://vector_store-genai-387907-images/8851018520_1_1_1.jpg\",\n{\n            'v': 1697613152304526,\n            'f': \"1697613152304526\",\n        },\n\"image/jpeg\",\n{\n            'v': 536581,\n            'f': \"536581\",\n        },\n\"ef3ad6e6aca3b39230bb3ef81a8c537b\",\n\"2023-10-18 07:12:32.358000+00:00\",\n\"[]\"],\n [{\n            'v': 104,\n            'f': \"104\",\n        },\n\"gs://vector_store-genai-387907-images/9000000101_1_1_1.jpg\",\n{\n            'v': 1697613152659850,\n            'f': \"1697613152659850\",\n        },\n\"image/jpeg\",\n{\n            'v': 1001427,\n            'f': \"1001427\",\n        },\n\"a5e3e5aac385b9e38ddb76fec219fe27\",\n\"2023-10-18 07:12:32.699000+00:00\",\n\"[]\"],\n [{\n            'v': 105,\n            'f': \"105\",\n        },\n\"gs://vector_store-genai-387907-images/9621640933_6_1_1.jpg\",\n{\n            'v': 1697613153239526,\n            'f': \"1697613153239526\",\n        },\n\"image/jpeg\",\n{\n            'v': 318260,\n            'f': \"318260\",\n        },\n\"416159ca1cd5c46c5aa89cfc0541f645\",\n\"2023-10-18 07:12:33.280000+00:00\",\n\"[]\"],\n [{\n            'v': 106,\n            'f': \"106\",\n        },\n\"gs://vector_store-genai-387907-images/9878166330_1_1_1.jpg\",\n{\n            'v': 1697613153568094,\n            'f': \"1697613153568094\",\n        },\n\"image/jpeg\",\n{\n            'v': 623341,\n            'f': \"623341\",\n        },\n\"cc6353ee21d43fbf65ab01206d4e311f\",\n\"2023-10-18 07:12:33.606000+00:00\",\n\"[]\"],\n [{\n            'v': 107,\n            'f': \"107\",\n        },\n\"gs://vector_store-genai-387907-images/9878177800_1_1_1.jpg\",\n{\n            'v': 1697613153756363,\n            'f': \"1697613153756363\",\n        },\n\"image/jpeg\",\n{\n            'v': 230187,\n            'f': \"230187\",\n        },\n\"26c86e620bb1f85103952ebe8c012af6\",\n\"2023-10-18 07:12:33.794000+00:00\",\n\"[]\"],\n [{\n            'v': 108,\n            'f': \"108\",\n        },\n\"gs://vector_store-genai-387907-images/9929222712_1_1_1.jpg\",\n{\n            'v': 1697613154179276,\n            'f': \"1697613154179276\",\n        },\n\"image/jpeg\",\n{\n            'v': 109802,\n            'f': \"109802\",\n        },\n\"3fb6bf235d621ce9321f7659d64c40d4\",\n\"2023-10-18 07:12:34.216000+00:00\",\n\"[]\"]],\n        columns: [[\"number\", \"index\"], [\"string\", \"uri\"], [\"number\", \"generation\"], [\"string\", \"content_type\"], [\"number\", \"size\"], [\"string\", \"md5_hash\"], [\"string\", \"updated\"], [\"string\", \"metadata\"]],\n        columnOptions: [{\"width\": \"1px\", \"className\": \"index_column\"}],\n        rowsPerPage: 25,\n        helpUrl: \"https://colab.research.google.com/notebooks/data_table.ipynb\",\n        suppressOutputScrolling: true,\n        minimumWidth: undefined,\n      });\n\n      function appendQuickchartButton(parentElement) {\n        let quickchartButtonContainerElement = document.createElement('div');\n        quickchartButtonContainerElement.innerHTML = `\n<div id=\"df-4cd8e4a7-fabf-4879-8cb5-e9743825ec9a\">\n  <button class=\"colab-df-quickchart\" onclick=\"quickchart('df-4cd8e4a7-fabf-4879-8cb5-e9743825ec9a')\"\n            title=\"Suggest charts.\"\n            style=\"display:none;\">\n    \n<svg xmlns=\"http://www.w3.org/2000/svg\" height=\"24px\"viewBox=\"0 0 24 24\"\n     width=\"24px\">\n    <g>\n        <path d=\"M19 3H5c-1.1 0-2 .9-2 2v14c0 1.1.9 2 2 2h14c1.1 0 2-.9 2-2V5c0-1.1-.9-2-2-2zM9 17H7v-7h2v7zm4 0h-2V7h2v10zm4 0h-2v-4h2v4z\"/>\n    </g>\n</svg>\n  </button>\n  \n<style>\n  .colab-df-quickchart {\n      --bg-color: #E8F0FE;\n      --fill-color: #1967D2;\n      --hover-bg-color: #E2EBFA;\n      --hover-fill-color: #174EA6;\n      --disabled-fill-color: #AAA;\n      --disabled-bg-color: #DDD;\n  }\n\n  [theme=dark] .colab-df-quickchart {\n      --bg-color: #3B4455;\n      --fill-color: #D2E3FC;\n      --hover-bg-color: #434B5C;\n      --hover-fill-color: #FFFFFF;\n      --disabled-bg-color: #3B4455;\n      --disabled-fill-color: #666;\n  }\n\n  .colab-df-quickchart {\n    background-color: var(--bg-color);\n    border: none;\n    border-radius: 50%;\n    cursor: pointer;\n    display: none;\n    fill: var(--fill-color);\n    height: 32px;\n    padding: 0;\n    width: 32px;\n  }\n\n  .colab-df-quickchart:hover {\n    background-color: var(--hover-bg-color);\n    box-shadow: 0 1px 2px rgba(60, 64, 67, 0.3), 0 1px 3px 1px rgba(60, 64, 67, 0.15);\n    fill: var(--button-hover-fill-color);\n  }\n\n  .colab-df-quickchart-complete:disabled,\n  .colab-df-quickchart-complete:disabled:hover {\n    background-color: var(--disabled-bg-color);\n    fill: var(--disabled-fill-color);\n    box-shadow: none;\n  }\n\n  .colab-df-spinner {\n    border: 2px solid var(--fill-color);\n    border-color: transparent;\n    border-bottom-color: var(--fill-color);\n    animation:\n      spin 1s steps(1) infinite;\n  }\n\n  @keyframes spin {\n    0% {\n      border-color: transparent;\n      border-bottom-color: var(--fill-color);\n      border-left-color: var(--fill-color);\n    }\n    20% {\n      border-color: transparent;\n      border-left-color: var(--fill-color);\n      border-top-color: var(--fill-color);\n    }\n    30% {\n      border-color: transparent;\n      border-left-color: var(--fill-color);\n      border-top-color: var(--fill-color);\n      border-right-color: var(--fill-color);\n    }\n    40% {\n      border-color: transparent;\n      border-right-color: var(--fill-color);\n      border-top-color: var(--fill-color);\n    }\n    60% {\n      border-color: transparent;\n      border-right-color: var(--fill-color);\n    }\n    80% {\n      border-color: transparent;\n      border-right-color: var(--fill-color);\n      border-bottom-color: var(--fill-color);\n    }\n    90% {\n      border-color: transparent;\n      border-bottom-color: var(--fill-color);\n    }\n  }\n</style>\n\n  <script>\n    async function quickchart(key) {\n      const quickchartButtonEl =\n        document.querySelector('#' + key + ' button');\n      quickchartButtonEl.disabled = true;  // To prevent multiple clicks.\n      quickchartButtonEl.classList.add('colab-df-spinner');\n      try {\n        const charts = await google.colab.kernel.invokeFunction(\n            'suggestCharts', [key], {});\n      } catch (error) {\n        console.error('Error during call to suggestCharts:', error);\n      }\n      quickchartButtonEl.classList.remove('colab-df-spinner');\n      quickchartButtonEl.classList.add('colab-df-quickchart-complete');\n    }\n    (() => {\n      let quickchartButtonEl =\n        document.querySelector('#df-4cd8e4a7-fabf-4879-8cb5-e9743825ec9a button');\n      quickchartButtonEl.style.display =\n        google.colab.kernel.accessAllowed ? 'block' : 'none';\n    })();\n  </script>\n</div>`;\n        parentElement.appendChild(quickchartButtonContainerElement);\n      }\n\n      appendQuickchartButton(table);\n    "
          },
          "metadata": {},
          "execution_count": 52
        }
      ]
    },
    {
      "cell_type": "markdown",
      "source": [
        "# Cloud function\n",
        "\n",
        "Save this in two files:\n",
        "main.py\n",
        "requirements.txt\n",
        "\n",
        "**main.py**\n",
        "\n",
        "```\n",
        "#\n",
        "# Copyright 2023 Google LLC\n",
        "#\n",
        "# Licensed under the Apache License, Version 2.0 (the \"License\");\n",
        "# you may not use this file except in compliance with the License.\n",
        "# You may obtain a copy of the License at\n",
        "#\n",
        "#     https://www.apache.org/licenses/LICENSE-2.0\n",
        "#\n",
        "# Unless required by applicable law or agreed to in writing, software\n",
        "# distributed under the License is distributed on an \"AS IS\" BASIS,\n",
        "# WITHOUT WARRANTIES OR CONDITIONS OF ANY KIND, either express or implied.\n",
        "# See the License for the specific language governing permissions and\n",
        "# limitations under the License.\n",
        "#\n",
        "\n",
        "from google.protobuf.json_format import MessageToJson\n",
        "from google.cloud import vision\n",
        "import json\n",
        "\n",
        "def cloud_ai_vision(request):\n",
        "    try:\n",
        "        client = vision.ImageAnnotatorClient()\n",
        "        request_json = request.get_json()\n",
        "    \n",
        "        calls = request_json['calls']\n",
        "        return_value = []\n",
        "        for call in calls:\n",
        "            image = vision.Image(\n",
        "                source=vision.ImageSource(image_uri=call[0]))\n",
        "            response = client.object_localization(image=image)  \n",
        "            serialized_proto_plus = vision.AnnotateImageResponse.serialize(response)\n",
        "            response = vision.AnnotateImageResponse.deserialize(serialized_proto_plus)\n",
        "            response_json = MessageToJson(response._pb)\n",
        "            return_value.append(str(response_json))\n",
        "            return_json = json.dumps({\"replies\": return_value})\n",
        "        return return_json\n",
        "    except Exception as e:\n",
        "        return str(e.message)\n",
        "\n",
        "```\n",
        "\n",
        "**requirements.txt**\n",
        "\n",
        "```\n",
        "functions-framework==3.2.0\n",
        "protobuf\n",
        "google-cloud-vision\n",
        "google-cloud-logging\n",
        "```\n",
        "\n",
        "**deploy function**\n",
        "\n",
        "```\n",
        "gcloud functions deploy cloud_ai_vision \\\n",
        "--runtime python310 \\\n",
        "--trigger-http \\\n",
        "--ingress-settings all \\\n",
        "--region us-east1 \\\n",
        "--source ./function/\n",
        "```"
      ],
      "metadata": {
        "id": "LO8jBFU188bc"
      }
    }
  ],
  "metadata": {
    "colab": {
      "name": "Welcome To Colaboratory",
      "provenance": [],
      "include_colab_link": true
    },
    "kernelspec": {
      "display_name": "Python 3",
      "name": "python3"
    }
  },
  "nbformat": 4,
  "nbformat_minor": 0
}